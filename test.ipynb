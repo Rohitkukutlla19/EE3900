{
 "cells": [
  {
   "cell_type": "code",
   "execution_count": null,
   "metadata": {},
   "outputs": [
    {
     "ename": "",
     "evalue": "",
     "output_type": "error",
     "traceback": [
      "\u001b[1;31mJupyter cannot be started. Error attempting to locate Jupyter: Select an Interpreter to start Jupyter\n",
      "\u001b[1;31mRun the following command to install 'jupyter and notebook' into the Python environment. \n",
      "\u001b[1;31mCommand: 'python -m pip install jupyter notebook -U\n",
      "\u001b[1;31mor\n",
      "\u001b[1;31mconda install jupyter notebook -U'\n",
      "Click <a href='https://aka.ms/installJupyterForVSCode'>here</a> for more info."
     ]
    }
   ],
   "source": [
    "import numpy as np\n",
    "import matplotlib.pyplot as plt\n",
    "#If using termux\n",
    "import subprocess\n",
    "import shlex\n",
    "#end if\n",
    "\n",
    "\n",
    "\n",
    "x=np.array([1.0,2.0,3.0,4.0,2.0,1.0])\n",
    "k = 20\n",
    "y = np.zeros(20)\n",
    "\n",
    "\n",
    "y[0] = x[0]\n",
    "y[1] = -0.5*y[0]+x[1]\n",
    "\n",
    "for n in range(2,k-1):\n",
    "\tif n < 6:\n",
    "\t\ty[n] = -0.5*y[n-1]+x[n]+x[n-2]\n",
    "\telif n > 5 and n < 8:\n",
    "\t\ty[n] = -0.5*y[n-1]+x[n-2]\n",
    "\telse:\n",
    "\t\ty[n] = -0.5*y[n-1]\n",
    "print(y)\n",
    "\n",
    "#subplots\n",
    "plt.subplot(2, 1, 1)\n",
    "plt.stem(range(0,6),x)\n",
    "plt.title('Digital Filter Input-Output')\n",
    "plt.ylabel('$x(n)$')\n",
    "plt.grid()# minor\n",
    "\n",
    "\n",
    "plt.subplot(2, 1, 2)\n",
    "plt.stem(range(0,k),y)\n",
    "plt.xlabel('$n$')\n",
    "plt.ylabel('$y(n)$')\n",
    "plt.grid()# minor\n"
   ]
  }
 ],
 "metadata": {
  "kernelspec": {
   "display_name": "Python 3.10.6 64-bit",
   "language": "python",
   "name": "python3"
  },
  "language_info": {
   "name": "python",
   "version": "3.10.6"
  },
  "orig_nbformat": 4,
  "vscode": {
   "interpreter": {
    "hash": "25a19fbe0a9132dfb9279d48d161753c6352f8f9478c2e74383d340069b907c3"
   }
  }
 },
 "nbformat": 4,
 "nbformat_minor": 2
}
