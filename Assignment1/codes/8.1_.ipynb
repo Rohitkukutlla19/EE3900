{
 "cells": [
  {
   "cell_type": "code",
   "execution_count": 6,
   "metadata": {},
   "outputs": [
    {
     "name": "stdout",
     "output_type": "stream",
     "text": [
      "Requirement already satisfied: soundfile in /home/dell/.local/lib/python3.9/site-packages (0.11.0)\n",
      "Requirement already satisfied: cffi>=1.0 in /usr/local/lib/python3.9/dist-packages (from soundfile) (1.15.1)\n",
      "Requirement already satisfied: pycparser in /usr/local/lib/python3.9/dist-packages (from cffi>=1.0->soundfile) (2.21)\n",
      "Note: you may need to restart the kernel to use updated packages.\n"
     ]
    }
   ],
   "source": [
    "pip install soundfile"
   ]
  },
  {
   "cell_type": "code",
   "execution_count": 7,
   "metadata": {},
   "outputs": [
    {
     "data": {
      "image/png": "[encoded data removed]",
      "text/plain": [
       "<Figure size 432x288 with 1 Axes>"
      ]
     },
     "metadata": {
      "needs_background": "light"
     },
     "output_type": "display_data"
    }
   ],
   "source": [
    "#!/usr/bin/env python\n",
    "# coding: utf-8\n",
    "\n",
    "# In[ ]:\n",
    "\n",
    "#\n",
    "import soundfile as sf\n",
    "from scipy import signal, fft\n",
    "import numpy as np\n",
    "from numpy.polynomial import Polynomial as P\n",
    "from matplotlib import pyplot as plt\n",
    "\n",
    "def myfiltfilt(b, a, input_signal):\n",
    "    X = fft.fft(input_signal)\n",
    "    w = np.linspace(0, 1, len(X) + 1)\n",
    "    W = np.exp(2j*np.pi*w[:-1])\n",
    "    B = (np.absolute(np.polyval(b,W)))**2\n",
    "    A = (np.absolute(np.polyval(a,W)))**2\n",
    "    Y = B*(1/A)*X\n",
    "    return fft.ifft(Y).real\n",
    "\n",
    "#read .wav file \n",
    "input_signal,fs = sf.read('Sound_Noise.wav') \n",
    "\n",
    "#sampling frequency of Input signal\n",
    "sampl_freq=fs\n",
    "\n",
    "#order of the filter\n",
    "order=4   \n",
    "\n",
    "#cutoff frquency 4kHz\n",
    "cutoff_freq=4000.0  \n",
    "\n",
    "#digital frequency\n",
    "Wn=2*cutoff_freq/sampl_freq  \n",
    "\n",
    "# b and a are numerator and denominator polynomials respectively\n",
    "b, a = signal.butter(order, Wn, 'low') \n",
    "\n",
    "#filter the input signal with butterworth filter\n",
    "output_signal = signal.filtfilt(b, a, input_signal)\n",
    "#output_signal1 = signal.lfilter(b, a, input_signal)\n",
    "os1 = myfiltfilt(b, a, input_signal)\n",
    "x_plt = np.arange(len(input_signal))\n",
    "#Verify outputs by plotting\n",
    "plt.plot(x_plt[:100], output_signal[:100], 'b.')\n",
    "plt.plot(x_plt[:100], os1[:100], 'r.')\n",
    "plt.grid()\n",
    "plt.show()\n",
    "\n",
    "\n",
    "# %%\n"
   ]
  },
  {
   "cell_type": "code",
   "execution_count": null,
   "metadata": {},
   "outputs": [],
   "source": []
  }
 ],
 "metadata": {
  "kernelspec": {
   "display_name": "Python 3.9.7 64-bit",
   "language": "python",
   "name": "python3"
  },
  "language_info": {
   "codemirror_mode": {
    "name": "ipython",
    "version": 3
   },
   "file_extension": ".py",
   "mimetype": "text/x-python",
   "name": "python",
   "nbconvert_exporter": "python",
   "pygments_lexer": "ipython3",
   "version": "3.9.7"
  },
  "orig_nbformat": 4,
  "vscode": {
   "interpreter": {
    "hash": "916dbcbb3f70747c44a77c7bcd40155683ae19c65e1c03b4aa3499c5328201f1"
   }
  }
 },
 "nbformat": 4,
 "nbformat_minor": 2
}
