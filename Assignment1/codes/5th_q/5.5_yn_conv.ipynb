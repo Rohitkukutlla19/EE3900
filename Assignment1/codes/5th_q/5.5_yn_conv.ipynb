{
 "cells": [
  {
   "cell_type": "code",
   "execution_count": 2,
   "metadata": {},
   "outputs": [
    {
     "name": "stdout",
     "output_type": "stream",
     "text": [
      "[ 1.00000000e+00  1.50000000e+00  3.25000000e+00  4.37500000e+00\n",
      "  2.81250000e+00  3.59375000e+00  2.03125000e-01  8.98437500e-01\n",
      " -4.49218750e-01  2.24609375e-01 -1.12304688e-01  5.61523438e-02\n",
      " -2.80761719e-02  1.40380859e-02 -7.08007812e-03  3.41796875e-03\n",
      " -1.95312500e-03  6.10351562e-04 -6.10351562e-04  0.00000000e+00\n",
      " -1.22070312e-04]\n"
     ]
    },
    {
     "data": {
      "image/png": "[encoded data removed]",
      "text/plain": [
       "<Figure size 432x288 with 1 Axes>"
      ]
     },
     "metadata": {
      "needs_background": "light"
     },
     "output_type": "display_data"
    }
   ],
   "source": [
    "import numpy as np\n",
    "import matplotlib.pyplot as plt\n",
    "#If using termux\n",
    "import subprocess\n",
    "import shlex\n",
    "#end if\n",
    "\n",
    "\n",
    "\n",
    "n = np.arange(14)\n",
    "fn=(-1/2)**n\n",
    "hn1=np.pad(fn, (0,2), 'constant', constant_values=(0))\n",
    "hn2=np.pad(fn, (2,0), 'constant', constant_values=(0))\n",
    "h = hn1+hn2\n",
    "\n",
    "nh=len(h)\n",
    "x=np.array([1.0,2.0,3.0,4.0,2.0,1.0])\n",
    "nx = len(x)\n",
    "\n",
    "y = np.zeros(nx+nh-1)\n",
    "\n",
    "for k in range(0,nx+nh-1):\n",
    "\tfor n in range(0,nx):\n",
    "\t\tif k-n >= 0 and k-n < nh:\n",
    "\t\t\ty[k]+=x[n]*h[k-n]\n",
    "\n",
    "print(y)\n",
    "#plots\n",
    "plt.stem(range(0,nx+nh-1),y)\n",
    "plt.title('Filter Output using Convolution')\n",
    "plt.xlabel('$n$')\n",
    "plt.ylabel('$y(n)$')\n",
    "plt.grid()# minor\n",
    "\n",
    "#If using termux\n",
    "plt.savefig('../figs/ynconv.pdf')\n",
    "plt.savefig('../figs/ynconv.eps')\n",
    "#subprocess.run(shlex.split(\"termux-open ../figs/ynconv.pdf\"))\n",
    "#else\n",
    "#plt.show()"
   ]
  }
 ],
 "metadata": {
  "kernelspec": {
   "display_name": "Python 3.9.7 64-bit",
   "language": "python",
   "name": "python3"
  },
  "language_info": {
   "codemirror_mode": {
    "name": "ipython",
    "version": 3
   },
   "file_extension": ".py",
   "mimetype": "text/x-python",
   "name": "python",
   "nbconvert_exporter": "python",
   "pygments_lexer": "ipython3",
   "version": "3.9.7"
  },
  "orig_nbformat": 4,
  "vscode": {
   "interpreter": {
    "hash": "916dbcbb3f70747c44a77c7bcd40155683ae19c65e1c03b4aa3499c5328201f1"
   }
  }
 },
 "nbformat": 4,
 "nbformat_minor": 2
}
