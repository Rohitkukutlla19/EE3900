{
 "cells": [
  {
   "cell_type": "code",
   "execution_count": 1,
   "id": "384db895",
   "metadata": {},
   "outputs": [
    {
     "ename": "ModuleNotFoundError",
     "evalue": "No module named 'matplotlib'",
     "output_type": "error",
     "traceback": [
      "\u001b[1;31m---------------------------------------------------------------------------\u001b[0m",
      "\u001b[1;31mModuleNotFoundError\u001b[0m                       Traceback (most recent call last)",
      "\u001b[1;32mc:\\Users\\dell\\OneDrive\\Desktop\\EE3900\\Assignment1\\codes\\3-2_xnyn.ipynb Cell 1\u001b[0m in \u001b[0;36m<cell line: 2>\u001b[1;34m()\u001b[0m\n\u001b[0;32m      <a href='vscode-notebook-cell:/c%3A/Users/dell/OneDrive/Desktop/EE3900/Assignment1/codes/3-2_xnyn.ipynb#W0sZmlsZQ%3D%3D?line=0'>1</a>\u001b[0m \u001b[39mimport\u001b[39;00m \u001b[39mnumpy\u001b[39;00m \u001b[39mas\u001b[39;00m \u001b[39mnp\u001b[39;00m\n\u001b[1;32m----> <a href='vscode-notebook-cell:/c%3A/Users/dell/OneDrive/Desktop/EE3900/Assignment1/codes/3-2_xnyn.ipynb#W0sZmlsZQ%3D%3D?line=1'>2</a>\u001b[0m \u001b[39mimport\u001b[39;00m \u001b[39mmatplotlib\u001b[39;00m\u001b[39m.\u001b[39;00m\u001b[39mpyplot\u001b[39;00m \u001b[39mas\u001b[39;00m \u001b[39mplt\u001b[39;00m\n\u001b[0;32m      <a href='vscode-notebook-cell:/c%3A/Users/dell/OneDrive/Desktop/EE3900/Assignment1/codes/3-2_xnyn.ipynb#W0sZmlsZQ%3D%3D?line=2'>3</a>\u001b[0m \u001b[39m#If using termux\u001b[39;00m\n\u001b[0;32m      <a href='vscode-notebook-cell:/c%3A/Users/dell/OneDrive/Desktop/EE3900/Assignment1/codes/3-2_xnyn.ipynb#W0sZmlsZQ%3D%3D?line=3'>4</a>\u001b[0m \u001b[39mimport\u001b[39;00m \u001b[39msubprocess\u001b[39;00m\n",
      "\u001b[1;31mModuleNotFoundError\u001b[0m: No module named 'matplotlib'"
     ]
    }
   ],
   "source": [
    "import numpy as np\n",
    "import matplotlib.pyplot as plt\n",
    "#If using termux\n",
    "import subprocess\n",
    "import shlex\n",
    "#end if\n",
    "\n",
    "\n",
    "\n",
    "x=np.array([1.0,2.0,3.0,4.0,2.0,1.0])\n",
    "k = 20\n",
    "y = np.zeros(20)\n",
    "\n",
    "\n",
    "y[0] = x[0]\n",
    "y[1] = -0.5*y[0]+x[1]\n",
    "\n",
    "for n in range(2,k-1):\n",
    "\tif n < 6:\n",
    "\t\ty[n] = -0.5*y[n-1]+x[n]+x[n-2]\n",
    "\telif n > 5 and n < 8:\n",
    "\t\ty[n] = -0.5*y[n-1]+x[n-2]\n",
    "\telse:\n",
    "\t\ty[n] = -0.5*y[n-1]\n",
    "print(y)\n",
    "\n",
    "#subplots\n",
    "plt.subplot(2, 1, 1)\n",
    "plt.stem(range(0,6),x)\n",
    "plt.title('Digital Filter Input-Output')\n",
    "plt.ylabel('$x(n)$')\n",
    "plt.grid()# minor\n",
    "\n",
    "\n",
    "plt.subplot(2, 1, 2)\n",
    "plt.stem(range(0,k),y)\n",
    "plt.xlabel('$n$')\n",
    "plt.ylabel('$y(n)$')\n",
    "plt.grid()# minor\n",
    "\n",
    "#If using termux\n",
    "#plt.savefig('../figs/xnyn.pdf')\n",
    "#plt.savefig('../figs/xnyn.eps')\n",
    "#subprocess.run(shlex.split(\"termux-open ../figs/xnyn.pdf\"))\n",
    "#else\n",
    "#plt.show()\n",
    "Footer"
   ]
  },
  {
   "cell_type": "code",
   "execution_count": null,
   "id": "8f479902",
   "metadata": {},
   "outputs": [],
   "source": []
  }
 ],
 "metadata": {
  "kernelspec": {
   "display_name": "Python 3.10.6 64-bit (windows store)",
   "language": "python",
   "name": "python3"
  },
  "language_info": {
   "codemirror_mode": {
    "name": "ipython",
    "version": 3
   },
   "file_extension": ".py",
   "mimetype": "text/x-python",
   "name": "python",
   "nbconvert_exporter": "python",
   "pygments_lexer": "ipython3",
   "version": "3.10.6"
  },
  "vscode": {
   "interpreter": {
    "hash": "702e2de7553cf451157362c10ecb8e3024359cedd7829b8c0ec5e225801bfa6e"
   }
  }
 },
 "nbformat": 4,
 "nbformat_minor": 5
}
