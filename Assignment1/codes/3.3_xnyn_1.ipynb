{
 "cells": [
  {
   "cell_type": "code",
   "execution_count": 1,
   "metadata": {},
   "outputs": [
    {
     "data": {
      "image/png": "[encoded data removed]",
      "text/plain": [
       "<Figure size 432x288 with 2 Axes>"
      ]
     },
     "metadata": {
      "needs_background": "light"
     },
     "output_type": "display_data"
    },
    {
     "data": {
      "text/plain": [
       "<Figure size 432x288 with 0 Axes>"
      ]
     },
     "metadata": {},
     "output_type": "display_data"
    }
   ],
   "source": [
    "import matplotlib.pyplot as plt\n",
    "import numpy as np\n",
    "\n",
    "\n",
    "y = np.loadtxt(\"yn.txt\",dtype = \"double\")\n",
    "x = np.array([1,2,3,4,2,1])\n",
    "\n",
    "# ploting graphs\n",
    "plt.subplot(211)\n",
    "plt.stem(np.arange(len(x)),x)\n",
    "plt.xlabel(\"n\")\n",
    "plt.ylabel(\"$x(n)$\")\n",
    "plt.grid()\n",
    "\n",
    "plt.subplot(212)\n",
    "plt.stem(np.arange(len(y)),y)\n",
    "plt.xlabel(\"n\")\n",
    "plt.ylabel(\"$y(n)$\")\n",
    "plt.grid()\n",
    "\n",
    "plt.show()\n",
    "#If using termux\n",
    "plt.savefig('../figs/xnyn_1.pdf')\n",
    "plt.savefig('../figs/xnyn_1.eps')\n",
    "#subprocess.run(shlex.split(\"termux-open ../figs/xnyn.pdf\"))\n",
    "#else\n",
    "#plt.show()"
   ]
  }
 ],
 "metadata": {
  "kernelspec": {
   "display_name": "Python 3.9.7 64-bit",
   "language": "python",
   "name": "python3"
  },
  "language_info": {
   "codemirror_mode": {
    "name": "ipython",
    "version": 3
   },
   "file_extension": ".py",
   "mimetype": "text/x-python",
   "name": "python",
   "nbconvert_exporter": "python",
   "pygments_lexer": "ipython3",
   "version": "3.9.7"
  },
  "orig_nbformat": 4,
  "vscode": {
   "interpreter": {
    "hash": "916dbcbb3f70747c44a77c7bcd40155683ae19c65e1c03b4aa3499c5328201f1"
   }
  }
 },
 "nbformat": 4,
 "nbformat_minor": 2
}
