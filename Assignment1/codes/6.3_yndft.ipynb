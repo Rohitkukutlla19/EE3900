{
 "cells": [
  {
   "cell_type": "code",
   "execution_count": 2,
   "metadata": {},
   "outputs": [
    {
     "data": {
      "image/png": "[encoded data removed]",
      "text/plain": [
       "<Figure size 432x288 with 1 Axes>"
      ]
     },
     "metadata": {
      "needs_background": "light"
     },
     "output_type": "display_data"
    }
   ],
   "source": [
    "import numpy as np\n",
    "import matplotlib.pyplot as plt\n",
    "#If using termux\n",
    "import subprocess\n",
    "import shlex\n",
    "#end if\n",
    "\n",
    "\n",
    "N = 14\n",
    "n = np.arange(N)\n",
    "fn=(-1/2)**n\n",
    "hn1=np.pad(fn, (0,2), 'constant', constant_values=(0))\n",
    "hn2=np.pad(fn, (2,0), 'constant', constant_values=(0))\n",
    "h = hn1+hn2\n",
    "\n",
    "xtemp=np.array([1.0,2.0,3.0,4.0,2.0,1.0])\n",
    "x=np.pad(xtemp, (0,8), 'constant', constant_values=(0))\n",
    "\n",
    "X = np.zeros(N) + 1j*np.zeros(N)\n",
    "for k in range(0,N):\n",
    "\tfor n in range(0,N):\n",
    "\t\tX[k]+=x[n]*np.exp(-1j*2*np.pi*n*k/N)\n",
    "H = np.zeros(N) + 1j*np.zeros(N)\n",
    "for k in range(0,N):\n",
    "\tfor n in range(0,N):\n",
    "\t\tH[k]+=h[n]*np.exp(-1j*2*np.pi*n*k/N)\n",
    "\n",
    "Y = np.zeros(N) + 1j*np.zeros(N)\n",
    "for k in range(0,N):\n",
    "\tY[k] = X[k]*H[k]\n",
    "\n",
    "y = np.zeros(N) + 1j*np.zeros(N)\n",
    "for k in range(0,N):\n",
    "\tfor n in range(0,N):\n",
    "\t\ty[k]+=Y[n]*np.exp(1j*2*np.pi*n*k/N)\n",
    "\n",
    "#print(X)\n",
    "y = np.real(y)/N\n",
    "#plots\n",
    "plt.stem(range(0,N),y)\n",
    "plt.title('Filter Output using DFT')\n",
    "plt.xlabel('$n$')\n",
    "plt.ylabel('$y(n)$')\n",
    "plt.grid()# minor\n",
    "#\n",
    "#If using termux\n",
    "plt.savefig('../figs/yndft.pdf')\n",
    "#subprocess.run(shlex.split(\"termux-open ../figs/yndft.pdf\"))\n",
    "#else\n",
    "#plt.show()"
   ]
  }
 ],
 "metadata": {
  "kernelspec": {
   "display_name": "Python 3.10.6 64-bit (windows store)",
   "language": "python",
   "name": "python3"
  },
  "language_info": {
   "codemirror_mode": {
    "name": "ipython",
    "version": 3
   },
   "file_extension": ".py",
   "mimetype": "text/x-python",
   "name": "python",
   "nbconvert_exporter": "python",
   "pygments_lexer": "ipython3",
   "version": "3.10.6"
  },
  "orig_nbformat": 4,
  "vscode": {
   "interpreter": {
    "hash": "702e2de7553cf451157362c10ecb8e3024359cedd7829b8c0ec5e225801bfa6e"
   }
  }
 },
 "nbformat": 4,
 "nbformat_minor": 2
}
