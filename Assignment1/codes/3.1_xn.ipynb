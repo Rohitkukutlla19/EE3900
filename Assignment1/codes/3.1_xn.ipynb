{
 "cells": [
  {
   "cell_type": "code",
   "execution_count": 2,
   "metadata": {},
   "outputs": [
    {
     "data": {
      "image/png": "[encoded data removed]",
      "text/plain": [
       "<Figure size 432x288 with 1 Axes>"
      ]
     },
     "metadata": {
      "needs_background": "light"
     },
     "output_type": "display_data"
    }
   ],
   "source": [
    "import numpy as np\n",
    "import matplotlib.pyplot as plt\n",
    "#If using termux\n",
    "import subprocess\n",
    "import shlex\n",
    "#end if\n",
    "\n",
    "x=np.array([1.0,2.0,3.0,4.0,2.0,1.0])\n",
    "\n",
    "#subplots\n",
    "plt.subplot(2, 1, 1)\n",
    "plt.stem(range(0,6),x)\n",
    "plt.title('Digital Filter Input-Output')\n",
    "plt.ylabel('$xn$')\n",
    "plt.grid()# minor\n",
    "\n",
    "\n"
   ]
  }
 ],
 "metadata": {
  "kernelspec": {
   "display_name": "Python 3.10.6 64-bit (windows store)",
   "language": "python",
   "name": "python3"
  },
  "language_info": {
   "codemirror_mode": {
    "name": "ipython",
    "version": 3
   },
   "file_extension": ".py",
   "mimetype": "text/x-python",
   "name": "python",
   "nbconvert_exporter": "python",
   "pygments_lexer": "ipython3",
   "version": "3.10.6"
  },
  "orig_nbformat": 4,
  "vscode": {
   "interpreter": {
    "hash": "702e2de7553cf451157362c10ecb8e3024359cedd7829b8c0ec5e225801bfa6e"
   }
  }
 },
 "nbformat": 4,
 "nbformat_minor": 2
}
